{
 "cells": [
  {
   "cell_type": "markdown",
   "metadata": {},
   "source": [
    "# Getting started with the Jupyter Notebook"
   ]
  },
  {
   "cell_type": "markdown",
   "metadata": {},
   "source": [
    "¡Bienvenido a esta introducción a [Jupyter Notebook](https://jupyter.org/)! Los cuadernos son documentos interactivos que se originaron a partir del lenguaje de programación Python, pero desde entonces se han extendido a otros lenguajes (anteriormente se llamaba \"cuaderno ipython\", lo encontrará a menudo con este nombre en foros o sitios web). La ventaja de los cuadernos Jupyter es que pueden incluir texto explicativo, código y gráficos en el mismo documento.\n",
    "\n",
    "Esto lo convierte en un campo de juego ideal para explicar y aprender cosas nuevas sin tener que saltar entre varios documentos. Además, puedes probar todo de forma interactiva!\n",
    "\n",
    "En nuestras simulaciones y en este tutorial, usaremos Python. Este cuaderno nos ayudará a practicar el uso del cuaderno para editar y ejecutar el código."
   ]
  },
  {
   "cell_type": "markdown",
   "metadata": {},
   "source": [
    "## Primeros pasos"
   ]
  },
  {
   "cell_type": "markdown",
   "metadata": {},
   "source": [
    "Al primero, el cuaderno parece como un editor de texto.  Abajo puedes ver una celda.  La propuesta por defecto de una celda es escribir código (de Python):"
   ]
  },
  {
   "cell_type": "code",
   "execution_count": null,
   "metadata": {},
   "outputs": [],
   "source": [
    "# Click on this cell, so that its frame gets green\n",
    "m = 'Hello'\n",
    "print(m)"
   ]
  },
  {
   "cell_type": "markdown",
   "metadata": {},
   "source": [
    "Puede escribir una o más líneas de código en una celda. Puede **ejecutar** este código haciendo clic en el botón \"Ejecutar\" de la barra de herramientas cuando el marco de la celda es verde o azul. ¡Pruebalo ahora!\n",
    "\n",
    "Sin embargo, es mucho más rápido utilizar el método abreviado de teclado: `[Shift+Enter]`. Una vez que haya ejecutado una celda, se seleccionará la siguiente celda. Puede **insertar** celdas con el menú \"Insertar\". Nuevamente, es mucho más rápido aprender el método abreviado de teclado para esto: `[Ctrl+m]` o `[ESC]` para entrar en modo de comando (marco azul) luego presione `[a]` para \"arriba\" (\"above\" en inglés) o `[b]` para \"abajo\" (\"below\" en inglés).\n",
    "\n",
    "Cree unas cuantas celdas vacías encima y debajo de la actual e intente crear algunas variables. En lugar de hacer clic en una celda para ingresar en el modo de edición, presione `[Enter]`.\n",
    "\n",
    "Puede **eliminar** una celda haciendo clic en \"Eliminar\" en el menú \"Editar\", o puede usar el acceso directo: `[Ctrl+m]` para entrar en el modo de comando y luego presione `[d]` dos veces!"
   ]
  },
  {
   "cell_type": "markdown",
   "metadata": {},
   "source": [
    "## Más edición de celdas"
   ]
  },
  {
   "cell_type": "markdown",
   "metadata": {},
   "source": [
    "Cuándo ves el menu \"Edit\", verás que hay más posibilidades para editar celdas, como: \n",
    "- **copiar** / **cortar** y **pegar**\n",
    "- **división** y **fusiona** de celdas \n",
    "\n",
    "y más."
   ]
  },
  {
   "cell_type": "code",
   "execution_count": null,
   "metadata": {},
   "outputs": [],
   "source": [
    "a = 'This cell needs to be splitted.'\n",
    "\n",
    "b = 'Put the cursor in the row between the variables a and b, then choose [split cell] in the \"Edit\" menu!'"
   ]
  },
  {
   "cell_type": "markdown",
   "metadata": {},
   "source": [
    "Otro commando útil es \"Undo delete cell\", que significa \"Deshacer la eliminación de la celda\", que a veces necesitamos cuándo presionamos la tecla `[d]` demasiado rápido. "
   ]
  },
  {
   "cell_type": "markdown",
   "metadata": {},
   "source": [
    "## Escribir y ejecutar código"
   ]
  },
  {
   "cell_type": "markdown",
   "metadata": {},
   "source": [
    "Las variables creadas en una celda se pueden usar (o sobrescribir) en las celdas siguientes:"
   ]
  },
  {
   "cell_type": "code",
   "execution_count": null,
   "metadata": {},
   "outputs": [],
   "source": [
    "s = 'Hello'\n",
    "print(s)"
   ]
  },
  {
   "cell_type": "code",
   "execution_count": null,
   "metadata": {},
   "outputs": [],
   "source": [
    "s = s + ' Python!'\n",
    "# Lines which start with # are not executed. These are for comments.\n",
    "s"
   ]
  },
  {
   "cell_type": "markdown",
   "metadata": {},
   "source": [
    "Una ventaja de los cuadernos Jupyter es que cada celda puede ejecutarse por separado. Eso proporciona una manera fácil de ejecutar el código lentamente una parte del código tras otra. Es importante tener en cuenta que el orden en que se ejecutan las celdas es el orden en que cuaderno Jupyter calcula y guarda las variables, no el orden general de las celdas. Eso significa que hace una diferencia, ya sea que ejecute las celdas de arriba abajo una tras otra, o si las mezcla (celda 1, luego celda 5, luego celda 2, etc.).\n",
    "\n",
    "**Inténtalo a continuación: ejecuta las celdas primero en orden de arriba a abajo, luego pruébalos en un orden diferente.**"
   ]
  },
  {
   "cell_type": "code",
   "execution_count": null,
   "metadata": {},
   "outputs": [],
   "source": [
    "x = 2 # we define a variable x"
   ]
  },
  {
   "cell_type": "code",
   "execution_count": null,
   "metadata": {},
   "outputs": [],
   "source": [
    "x + 1 # we calculate x + 1"
   ]
  },
  {
   "cell_type": "code",
   "execution_count": null,
   "metadata": {},
   "outputs": [],
   "source": [
    "x = 5 # we re-define our variable with a different value"
   ]
  },
  {
   "cell_type": "code",
   "execution_count": null,
   "metadata": {},
   "outputs": [],
   "source": [
    "print('x = {}'.format(x)) # we ask the notebook to report the current value of x"
   ]
  },
  {
   "cell_type": "markdown",
   "metadata": {},
   "source": [
    "**Qué notaste?**\n",
    "\n",
    "Los números a la izquierda de las celdas te muestran el orden de ejecutación.  Cuándo The numbers on the left of the cell show you your order of execution. Cuando un cálculo se está ejecutando durante más tiempo, verás un asterisco en lugar del número. Eso nos lleva al siguiente tema:"
   ]
  },
  {
   "cell_type": "markdown",
   "metadata": {},
   "source": [
    "## Reinicie o interrumpa el kernel"
   ]
  },
  {
   "cell_type": "markdown",
   "metadata": {},
   "source": [
    "Lo que ejecuta nuestro código se llama el \"kernel\".  \n",
    "\n",
    "A veces los cálculos duran demasiado tiempo y queremos **interrumpirlos**. Puede hacerlo haciendo clic en el botón \"Detener\" en la barra de herramientas. Encontrarás más opciones para lidiar con el \"kernel\" en la barra de menú, como **reiniciar** el kernel y **borrar** toda la salida."
   ]
  },
  {
   "cell_type": "markdown",
   "metadata": {},
   "source": [
    "## Implementando gráficos con Matplotlib"
   ]
  },
  {
   "cell_type": "markdown",
   "metadata": {},
   "source": [
    "Como te dije al principio: podemos implementar diagramas en el cuaderno Jupyter. La herramienta de trazado más utilizada para Python es [Matplotlib](http://matplotlib.org/)."
   ]
  },
  {
   "cell_type": "code",
   "execution_count": null,
   "metadata": {},
   "outputs": [],
   "source": [
    "# First we need the next line to tell the notebook: display plots in the notebook.\n",
    "%matplotlib inline\n",
    "\n",
    "# Now, we import matplotlib:\n",
    "import matplotlib.pyplot as plt\n",
    "\n",
    "# We import also the package called numpy (that helps us playing with numbers).\n",
    "import numpy as np"
   ]
  },
  {
   "cell_type": "code",
   "execution_count": null,
   "metadata": {},
   "outputs": [],
   "source": [
    "# Let's plot something nice:\n",
    "\n",
    "# Define a range.\n",
    "x = np.arange(-1, 1.1, 0.1)\n",
    "# Plot it.\n",
    "plt.plot(x, np.sqrt(1-x**2))\n",
    "plt.title('My first plot in jupyter-notebook');"
   ]
  },
  {
   "cell_type": "markdown",
   "metadata": {},
   "source": [
    "Alterne la salida haciendo doble clic a la izquierda del gráfico, donde aparece un rectángulo activo."
   ]
  },
  {
   "cell_type": "markdown",
   "metadata": {},
   "source": [
    "## Descarga el cuaderno"
   ]
  },
  {
   "cell_type": "markdown",
   "metadata": {},
   "source": [
    "Podemos descargar nuestro cuaderno Jupyter de varias formas:\n",
    "\n",
    "- Cuaderno (*.pynb)\n",
    "- Python (*.py)\n",
    "- HTML (*.html)\n",
    "- LaTeX (*.tex)\n",
    "- ...\n",
    "\n",
    "Entonces, mira el menu \"File\" y haz clic en \"Download As\" (\"Descargar de forma...\")."
   ]
  },
  {
   "cell_type": "markdown",
   "metadata": {},
   "source": [
    "Estas fueron las características más importantes del cuaderno Jupyter. En la barra de menú del cuaderno, la pestaña \"Help\" proporciona un breve \"User Interface Tour\" (\"Recorrido por la interfaz del usuario\") y una lista con \"Keyboard shortcuts\" (\"Métodos abreviados de teclado\"). Además, hay tutoriales más detalladas [en la Web](https://jupyter.org/try) o la [documentación](https://jupyter-notebook.readthedocs.io/en/stable/notebook.html) si tienes más preguntas. ¡Pero con los comandos ya aprendidos, estás bien preparado para los experimentos que vamos a hacer!"
   ]
  },
  {
   "cell_type": "markdown",
   "metadata": {},
   "source": [
    "[Adelante al primero experimento](1_inclinacion_de_la_base.ipynb)"
   ]
  }
 ],
 "metadata": {
  "hide_input": false,
  "kernelspec": {
   "display_name": "Python 3",
   "language": "python",
   "name": "python3"
  },
  "language_info": {
   "codemirror_mode": {
    "name": "ipython",
    "version": 3
   },
   "file_extension": ".py",
   "mimetype": "text/x-python",
   "name": "python",
   "nbconvert_exporter": "python",
   "pygments_lexer": "ipython3",
   "version": "3.7.3"
  },
  "toc": {
   "base_numbering": 1,
   "nav_menu": {},
   "number_sections": false,
   "sideBar": true,
   "skip_h1_title": true,
   "title_cell": "Table of Contents",
   "title_sidebar": "Contents",
   "toc_cell": false,
   "toc_position": {},
   "toc_section_display": true,
   "toc_window_display": false
  }
 },
 "nbformat": 4,
 "nbformat_minor": 2
}
